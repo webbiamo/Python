{
 "cells": [
  {
   "cell_type": "markdown",
   "metadata": {},
   "source": [
    "<center>\n",
    "<hr>\n",
    "<h1>Introduzione a Python</h1>\n",
    "<h2>Engim - Tecnico - anno 2021/22</h2>\n",
    "<h4>Livio Bioglio livio.bioglio@unito.it </h4>\n",
    "<h3>Parte 4</h3>\n",
    "<hr>\n",
    "</center>"
   ]
  },
  {
   "cell_type": "markdown",
   "metadata": {},
   "source": [
    "### Classi definite dall'utente"
   ]
  },
  {
   "cell_type": "markdown",
   "metadata": {},
   "source": [
    "La sintassi per la creazione delle classi è la seguente:\n",
    "\n",
    "`class class_name[(parent_class_name)]:\n",
    "    \"some documentation\"\n",
    "    statements`"
   ]
  },
  {
   "cell_type": "markdown",
   "metadata": {},
   "source": [
    "Esempio 1. Classe `person`"
   ]
  },
  {
   "cell_type": "code",
   "execution_count": 1,
   "metadata": {},
   "outputs": [],
   "source": [
    "import datetime as dt\n",
    "from dateutil.relativedelta import relativedelta\n",
    "\n",
    "class person(object):\n",
    "    \"class of all people\"\n",
    "    #attribute shared by all individuals of the class \"person\"\n",
    "    #it is a class variable\n",
    "    species = \"Homo sapiens\"\n",
    "    \n",
    "    def __init__(self, birthY, birthM, birthD, birth_pl, name, surname, sex ):\n",
    "        #__init__ method, if defined, is automatically invoked during\n",
    "        #class instantiation\n",
    "        #about 'self': it is the, instance object, which is passed as the first argument\n",
    "        #of function person.__init__()\n",
    "        self.birthY = birthY  #example of instance variable\n",
    "        self.birthM = birthM\n",
    "        self.birthD = birthD\n",
    "        self.birth_pl = birth_pl\n",
    "        self.name = name\n",
    "        self.surname = surname\n",
    "        \n",
    "        if (sex == \"male\" or sex == \"m\" or sex == \"Male\"):\n",
    "            self.sex = \"male\"\n",
    "        elif (sex == \"female\" or sex == \"f\" or sex == \"Female\"):\n",
    "            self.sex = \"female\"\n",
    "        else:\n",
    "            self.sex = \"--\"\n",
    "        \n",
    "    def age(self):\n",
    "        birth_date = dt.datetime(self.birthY, self.birthM, self.birthD)\n",
    "        return relativedelta(dt.datetime.today(), birth_date).years\n",
    "    \n",
    "    def __str__(self):\n",
    "        return f'{self.name} {self.surname}: {self.sex}, born in {self.birth_pl} on {self.birthM}/{self.birthD}/{self.birthY}.'\n"
   ]
  },
  {
   "cell_type": "code",
   "execution_count": 2,
   "metadata": {},
   "outputs": [],
   "source": [
    "a = person(1986, 5, 11, \"Turin\", \"Jeff\", \"Lynn\", \"m\")"
   ]
  },
  {
   "cell_type": "code",
   "execution_count": 3,
   "metadata": {},
   "outputs": [
    {
     "name": "stdout",
     "output_type": "stream",
     "text": [
      "Jeff Lynn: male, born in Turin on 5/11/1986.\n",
      "Species: Homo sapiens\n",
      "Age: 35\n"
     ]
    }
   ],
   "source": [
    "print(a)\n",
    "print(f\"Species: {a.species}\")\n",
    "print(f\"Age: {a.age()}\") "
   ]
  },
  {
   "cell_type": "markdown",
   "metadata": {},
   "source": [
    "Esempio 2. Classe `college_student`"
   ]
  },
  {
   "cell_type": "code",
   "execution_count": 4,
   "metadata": {},
   "outputs": [],
   "source": [
    "from statistics import mean\n",
    "\n",
    "class college_student(person):\n",
    "    \"class of all college students\"\n",
    "    \n",
    "    def __init__(self, name, surname, sex, birthY, birthM, birthD, birth_pl, college, grades = {}):\n",
    "        person.__init__(self, name = name, surname = surname, sex = sex, birthY = birthY,\\\n",
    "                        birthM = birthM, birthD = birthD, birth_pl = birth_pl)\n",
    "        self.college = college\n",
    "        self.grades = grades\n",
    "    \n",
    "    def reload_grades(self, grades_dict):\n",
    "        \"takes dictionary Subject: grade in input\"\n",
    "        self.grades = grades_dict\n",
    "        print(\"Grades uploaded\")\n",
    "        return\n",
    "        \n",
    "    def avg_grade(self):\n",
    "        if len(self.grades.items()) > 0:\n",
    "            return mean(self.grades.values())\n",
    "        else:\n",
    "            return None            \n",
    "            \n",
    "    def __str__(self):\n",
    "        person_string = person.__str__(self)\n",
    "        student_string = f'\\nCollege: {self.college} - Avg grade: {self.avg_grade()}'\n",
    "        return person_string + student_string\n"
   ]
  },
  {
   "cell_type": "code",
   "execution_count": 5,
   "metadata": {},
   "outputs": [],
   "source": [
    "b = college_student(name = \"Mark\", surname = \"Adams\", birthY = 1991, birthM = 10, birthD = 1, \\\n",
    "                    birth_pl = \"Greenville, NC\", sex = \"m\", college = \"MIT Boston\")"
   ]
  },
  {
   "cell_type": "code",
   "execution_count": 6,
   "metadata": {},
   "outputs": [
    {
     "name": "stdout",
     "output_type": "stream",
     "text": [
      "Mark Adams: male, born in Greenville, NC on 10/1/1991.\n",
      "College: MIT Boston - Avg grade: None\n",
      "\n",
      "Student's name: Mark\n",
      "Student's age: 30\n",
      "\n",
      "Grades uploaded\n",
      "Student's grade average: 26\n"
     ]
    }
   ],
   "source": [
    "print(b)\n",
    "print(\"\")\n",
    "print(f\"Student's name: {b.name}\")\n",
    "print(f\"Student's age: {b.age()}\")\n",
    "print(\"\")\n",
    "b.reload_grades({\"Mathematics 1\": 30, \"Microeconomics 1\": 20, \"Macroeconomics\":28})\n",
    "print(f\"Student's grade average: {b.avg_grade()}\")"
   ]
  },
  {
   "cell_type": "markdown",
   "metadata": {},
   "source": [
    "Esempio 3. Classe `mother`, con `**kwargs` (keyword arguments)"
   ]
  },
  {
   "cell_type": "code",
   "execution_count": 7,
   "metadata": {},
   "outputs": [],
   "source": [
    "class mother(person):\n",
    "    \"class of all mothers\"\n",
    "    def __init__(self, children_names = [], **kwargs):\n",
    "        kwargs[\"sex\"] = \"f\" #for simplicity, we assume mothers to be female\n",
    "        person.__init__(self, **kwargs)\n",
    "        self.children_names = children_names\n",
    "    \n",
    "    def set_children_names(self, children_names):\n",
    "        self.children_names =  children_names\n",
    "        return \n",
    "    \n",
    "    def get_children_number(self):\n",
    "        return len(self.children_names)"
   ]
  },
  {
   "cell_type": "code",
   "execution_count": 8,
   "metadata": {},
   "outputs": [],
   "source": [
    "m = mother(name = \"Emy\", sex = \"male\", surname = \"Jordan\", birthY = 1985, birthM = 10, birthD = 1, \\\n",
    "                    birth_pl = \"Greenville, NC\")"
   ]
  },
  {
   "cell_type": "code",
   "execution_count": 9,
   "metadata": {},
   "outputs": [
    {
     "name": "stdout",
     "output_type": "stream",
     "text": [
      "Emy Jordan: female, born in Greenville, NC on 10/1/1985.\n",
      "\n",
      "Nummber of children: 2\n"
     ]
    }
   ],
   "source": [
    "print(m)\n",
    "print(\"\")\n",
    "m.set_children_names([\"Tom\", \"Stephanie\"])\n",
    "print(f\"Nummber of children: {m.get_children_number()}\")"
   ]
  },
  {
   "cell_type": "markdown",
   "metadata": {},
   "source": [
    "## Exercizi\n",
    "### Exercizio 1\n",
    "Crea una classe `polygon`, che quando viene creato prende in input il numero di lati, per esempio `a = polygon(4)` per un quadrilatero. L'unico altro metodo oltre al costruttore deve essere `tell_name`, che restituisce il nome del poligono, ossia `quadrilatero, pentagono, esagono, ettagono, ottagono` e (dopo 8 lati), `poligono con ... lati`.\n"
   ]
  },
  {
   "cell_type": "code",
   "execution_count": null,
   "metadata": {},
   "outputs": [],
   "source": []
  },
  {
   "cell_type": "code",
   "execution_count": 10,
   "metadata": {},
   "outputs": [],
   "source": [
    "#a = polygon(13)\n",
    "#a.tell_name()"
   ]
  },
  {
   "cell_type": "markdown",
   "metadata": {},
   "source": [
    "### Esecizio 2\n",
    "Crea la classe `rectangle`, che eredita dalla classe `polygon`. Un oggetto di tipo `rectangle` deve essere creato come `a = rectangle(base, height)`. Olte al costruttore, creare il metodo `get_Area`, e modificae la stringa di ritorno in modo che mostri `Sono un rettangolo con base ... e altezza ...: la mia area è ...`.\n"
   ]
  },
  {
   "cell_type": "code",
   "execution_count": null,
   "metadata": {},
   "outputs": [],
   "source": []
  },
  {
   "cell_type": "code",
   "execution_count": 11,
   "metadata": {},
   "outputs": [],
   "source": [
    "#a = rectangle(base = 3, height = 2)\n",
    "#print(a)       "
   ]
  },
  {
   "cell_type": "markdown",
   "metadata": {},
   "source": [
    "### Eserczio 3\n",
    "Cea la classe `triangle`, che eredita dalla classe `polygon`. Un oggetto di tipo `triangle` deve essere creato come `a = triangle(side1, side2, side3)`. Creare un metodo `is_isosceles` che restituisce True o False."
   ]
  },
  {
   "cell_type": "code",
   "execution_count": null,
   "metadata": {},
   "outputs": [],
   "source": [
    "\n",
    "        \n",
    "    "
   ]
  },
  {
   "cell_type": "code",
   "execution_count": null,
   "metadata": {},
   "outputs": [],
   "source": []
  },
  {
   "cell_type": "code",
   "execution_count": null,
   "metadata": {},
   "outputs": [],
   "source": []
  }
 ],
 "metadata": {
  "kernelspec": {
   "display_name": "Python 3",
   "language": "python",
   "name": "python3"
  },
  "language_info": {
   "codemirror_mode": {
    "name": "ipython",
    "version": 3
   },
   "file_extension": ".py",
   "mimetype": "text/x-python",
   "name": "python",
   "nbconvert_exporter": "python",
   "pygments_lexer": "ipython3",
   "version": "3.7.6"
  }
 },
 "nbformat": 4,
 "nbformat_minor": 2
}
