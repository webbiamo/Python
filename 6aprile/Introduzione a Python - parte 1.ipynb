{
 "cells": [
  {
   "cell_type": "markdown",
   "metadata": {},
   "source": [
    "<center>\n",
    "<hr>\n",
    "<h1>Introduzione a Python</h1>\n",
    "<h2>Engim - Tecnico - anno 2021/22</h2>\n",
    "<h4>Livio Bioglio livio.bioglio@unito.it </h4>\n",
    "<h3>Parte 1</h3>\n",
    "<hr>\n",
    "</center>\n",
    "\n",
    "## Python: sintassi e tipi \n",
    "\n",
    "Sui Jupyter Notebook possiamo eseguire celle con **Markdown** o **codice in Python**."
   ]
  },
  {
   "cell_type": "code",
   "execution_count": 3,
   "metadata": {},
   "outputs": [
    {
     "name": "stdout",
     "output_type": "stream",
     "text": [
      "Python 3.9.10\n"
     ]
    }
   ],
   "source": [
    "! python -V"
   ]
  },
  {
   "cell_type": "markdown",
   "metadata": {},
   "source": [
    "## Visualizzare messaggi\n",
    "\n",
    "Usare `print()` per visualizzare messaggi all'interno di uno script.\n",
    "\n",
    "Il testo può essere composto con l'operatore + o con l'operatore %"
   ]
  },
  {
   "cell_type": "code",
   "execution_count": 2,
   "metadata": {},
   "outputs": [
    {
     "name": "stdout",
     "output_type": "stream",
     "text": [
      "Hello World!\n"
     ]
    }
   ],
   "source": [
    "print('Hello World!') # uso apici ' ' o \" \" per definire una stringa"
   ]
  },
  {
   "cell_type": "code",
   "execution_count": 3,
   "metadata": {},
   "outputs": [
    {
     "data": {
      "text/plain": [
       "3.14159265"
      ]
     },
     "execution_count": 3,
     "metadata": {},
     "output_type": "execute_result"
    }
   ],
   "source": [
    "pi = 3.14159265\n",
    "pi"
   ]
  },
  {
   "cell_type": "code",
   "execution_count": 1,
   "metadata": {},
   "outputs": [
    {
     "name": "stdout",
     "output_type": "stream",
     "text": [
      "Livio\n"
     ]
    }
   ],
   "source": [
    "nome = 'Livio' \n",
    "print(nome)"
   ]
  },
  {
   "cell_type": "code",
   "execution_count": 2,
   "metadata": {},
   "outputs": [
    {
     "name": "stdout",
     "output_type": "stream",
     "text": [
      "Ciao, Livio!\n"
     ]
    }
   ],
   "source": [
    "saluto = 'Ciao, ' +  nome + '!'\n",
    "print(saluto)"
   ]
  },
  {
   "cell_type": "code",
   "execution_count": 3,
   "metadata": {},
   "outputs": [
    {
     "data": {
      "text/plain": [
       "'ciao3'"
      ]
     },
     "execution_count": 3,
     "metadata": {},
     "output_type": "execute_result"
    }
   ],
   "source": [
    "# TypeError: must be str, not int\n",
    "#'ciao' + 3\n",
    "'ciao' + str(3)"
   ]
  },
  {
   "cell_type": "code",
   "execution_count": 7,
   "metadata": {},
   "outputs": [
    {
     "data": {
      "text/plain": [
       "'Ciao, Livio!'"
      ]
     },
     "execution_count": 7,
     "metadata": {},
     "output_type": "execute_result"
    }
   ],
   "source": [
    "'Ciao, %s!' %nome"
   ]
  },
  {
   "cell_type": "code",
   "execution_count": 8,
   "metadata": {},
   "outputs": [
    {
     "name": "stdout",
     "output_type": "stream",
     "text": [
      "In the Python community, Guido van Rossum is known as a \"Benevolent Dictator For Life\" (BDFL).\n"
     ]
    }
   ],
   "source": [
    "nome = 'Guido van Rossum'\n",
    "language = 'Python'\n",
    "print(\"In the %s community, %s is known as a \\\"Benevolent Dictator For Life\\\" (BDFL).\" %(language, nome))"
   ]
  },
  {
   "cell_type": "code",
   "execution_count": null,
   "metadata": {},
   "outputs": [
    {
     "ename": "",
     "evalue": "",
     "output_type": "error",
     "traceback": [
      "\u001b[1;31mRunning cells with 'Python 3.6.9 64-bit' requires ipykernel package.\n",
      "Run the following command to install 'ipykernel' into the Python environment. \n",
      "Command: '/usr/bin/python3 -m pip install ipykernel -U --user --force-reinstall'"
     ]
    }
   ],
   "source": [
    "planet = 'Jupiter'\n",
    "moons = 69\n",
    "scientist = 'Galileo Galilei'\n",
    "year = 1610\n",
    "\n",
    "print(\"%s has at least %d moons, including the four large Galilean moons discovered by %s in %d.\" \n",
    "      %(planet,moons,scientist,year))"
   ]
  },
  {
   "cell_type": "code",
   "execution_count": 1,
   "metadata": {},
   "outputs": [
    {
     "name": "stdout",
     "output_type": "stream",
     "text": [
      "Il pi greco vale 3.142\n"
     ]
    }
   ],
   "source": [
    "pi = 3.14159265\n",
    "print('Il pi greco vale %.3f' %pi)"
   ]
  },
  {
   "cell_type": "code",
   "execution_count": 11,
   "metadata": {},
   "outputs": [
    {
     "name": "stdout",
     "output_type": "stream",
     "text": [
      "Jupiter è una parola di 7 caratteri.\n"
     ]
    }
   ],
   "source": [
    "word = 'Jupiter'\n",
    "wl = len(word)\n",
    "\n",
    "print(\"%s è una parola di %d caratteri.\" \n",
    "      %(word,wl))"
   ]
  },
  {
   "cell_type": "markdown",
   "metadata": {},
   "source": [
    "## Funzioni matematiche\n",
    "\n",
    "Le funzioni matematiche standard sono contenute nel modulo `math`: questo modulo deve essere **importato** per poter usae queste funzioni"
   ]
  },
  {
   "cell_type": "code",
   "execution_count": 12,
   "metadata": {},
   "outputs": [
    {
     "ename": "NameError",
     "evalue": "name 'exp' is not defined",
     "output_type": "error",
     "traceback": [
      "\u001b[0;31m---------------------------------------------------------------------------\u001b[0m",
      "\u001b[0;31mNameError\u001b[0m                                 Traceback (most recent call last)",
      "\u001b[0;32m<ipython-input-12-71682d5c7725>\u001b[0m in \u001b[0;36m<module>\u001b[0;34m\u001b[0m\n\u001b[1;32m      1\u001b[0m \u001b[0;31m#non funziona!\u001b[0m\u001b[0;34m\u001b[0m\u001b[0;34m\u001b[0m\u001b[0;34m\u001b[0m\u001b[0m\n\u001b[0;32m----> 2\u001b[0;31m \u001b[0mprint\u001b[0m\u001b[0;34m(\u001b[0m\u001b[0mexp\u001b[0m\u001b[0;34m(\u001b[0m\u001b[0;36m2\u001b[0m\u001b[0;34m)\u001b[0m\u001b[0;34m)\u001b[0m\u001b[0;34m\u001b[0m\u001b[0;34m\u001b[0m\u001b[0m\n\u001b[0m\u001b[1;32m      3\u001b[0m \u001b[0mprint\u001b[0m\u001b[0;34m(\u001b[0m\u001b[0mlog\u001b[0m\u001b[0;34m(\u001b[0m\u001b[0;36m2\u001b[0m\u001b[0;34m)\u001b[0m\u001b[0;34m)\u001b[0m\u001b[0;34m\u001b[0m\u001b[0;34m\u001b[0m\u001b[0m\n",
      "\u001b[0;31mNameError\u001b[0m: name 'exp' is not defined"
     ]
    }
   ],
   "source": [
    "#non funziona!\n",
    "print(exp(2))\n",
    "print(log(2))"
   ]
  },
  {
   "cell_type": "code",
   "execution_count": 13,
   "metadata": {},
   "outputs": [
    {
     "name": "stdout",
     "output_type": "stream",
     "text": [
      "7.38905609893065\n",
      "0.6931471805599453\n"
     ]
    }
   ],
   "source": [
    "from math import exp, log\n",
    "print(exp(2))\n",
    "print(log(2))"
   ]
  },
  {
   "cell_type": "markdown",
   "metadata": {},
   "source": [
    "Dal modulo `math`si possono impotre anche costanti, come $\\pi$ o $e$"
   ]
  },
  {
   "cell_type": "code",
   "execution_count": 14,
   "metadata": {},
   "outputs": [
    {
     "name": "stdout",
     "output_type": "stream",
     "text": [
      "7.3890560989306495\n",
      "1.0\n",
      "3.141592653589793\n"
     ]
    }
   ],
   "source": [
    "from math import pi, e\n",
    "print(e**2)\n",
    "print(log(e))\n",
    "print(pi)"
   ]
  },
  {
   "cell_type": "markdown",
   "metadata": {},
   "source": [
    "È possible importare il modulo col poprio nome..."
   ]
  },
  {
   "cell_type": "code",
   "execution_count": 15,
   "metadata": {},
   "outputs": [
    {
     "name": "stdout",
     "output_type": "stream",
     "text": [
      "2.718281828459045\n",
      "3.141592653589793\n"
     ]
    }
   ],
   "source": [
    "import math\n",
    "\n",
    "print(math.e)\n",
    "print(math.pi)"
   ]
  },
  {
   "cell_type": "markdown",
   "metadata": {},
   "source": [
    ".. o rinominare il modulo, attraverso la parola chiave `as`"
   ]
  },
  {
   "cell_type": "code",
   "execution_count": 16,
   "metadata": {},
   "outputs": [
    {
     "name": "stdout",
     "output_type": "stream",
     "text": [
      "3.141592653589793\n",
      "1.0\n"
     ]
    }
   ],
   "source": [
    "import math as m\n",
    "\n",
    "print(m.pi)\n",
    "print(m.cos(2*m.pi))"
   ]
  },
  {
   "cell_type": "markdown",
   "metadata": {
    "collapsed": true
   },
   "source": [
    "## Strutture dati"
   ]
  },
  {
   "cell_type": "markdown",
   "metadata": {},
   "source": [
    "### Liste"
   ]
  },
  {
   "cell_type": "code",
   "execution_count": 17,
   "metadata": {},
   "outputs": [
    {
     "name": "stdout",
     "output_type": "stream",
     "text": [
      "4\n"
     ]
    }
   ],
   "source": [
    "my_first_list = [\"dog\", 3.14, \"cat\", 2 + 3j]\n",
    "print(len(my_first_list)) #length of the list"
   ]
  },
  {
   "cell_type": "code",
   "execution_count": 18,
   "metadata": {},
   "outputs": [
    {
     "name": "stdout",
     "output_type": "stream",
     "text": [
      "['dog', (2+3j)]\n",
      "ca\n"
     ]
    }
   ],
   "source": [
    "#print(my_first_list[0]) #select one element\n",
    "#print(my_first_list[2])\n",
    "#print(my_first_list[1:3:1]) #select a slice: start, stop, step\n",
    "#print(my_first_list[2:3]) \n",
    "print(my_first_list[::+3])\n",
    "print(my_first_list[-2][0:2])\n",
    "#print(my_first_list[-1:-9:-1]) \n",
    "#print(my_first_list[::-1]) "
   ]
  },
  {
   "cell_type": "code",
   "execution_count": 19,
   "metadata": {},
   "outputs": [
    {
     "name": "stdout",
     "output_type": "stream",
     "text": [
      "[1, 2, 3, 1, 2, 3, 1, 2, 3, 1, 2, 3]\n"
     ]
    }
   ],
   "source": [
    "#print(my_first_list * 3) #concatenate the list with itself a number of times\n",
    "#print(\"ciao \"*3)\n",
    "print(4*[1,2,3])"
   ]
  },
  {
   "cell_type": "code",
   "execution_count": 20,
   "metadata": {},
   "outputs": [
    {
     "name": "stdout",
     "output_type": "stream",
     "text": [
      "['dog', 3.14, 'cat', (2+3j), 'Vero', 'Laura']\n"
     ]
    }
   ],
   "source": [
    "other_list = [\"Vero\", \"Laura\"]\n",
    "print(my_first_list + other_list) #concatenate two lists"
   ]
  },
  {
   "cell_type": "code",
   "execution_count": 21,
   "metadata": {},
   "outputs": [
    {
     "name": "stdout",
     "output_type": "stream",
     "text": [
      "['horse', 3.14, 'free', 'will']\n"
     ]
    }
   ],
   "source": [
    "my_first_list[2:4] = [\"free\", \"will\"]\n",
    "my_first_list[0] = \"horse\" #you can modify a list: lists are MUTABLE\n",
    "print(my_first_list)"
   ]
  },
  {
   "cell_type": "markdown",
   "metadata": {},
   "source": [
    "Funzione `Append`"
   ]
  },
  {
   "cell_type": "code",
   "execution_count": 22,
   "metadata": {},
   "outputs": [
    {
     "name": "stdout",
     "output_type": "stream",
     "text": [
      "['horse', 3.14, 'free', 'will', 'last']\n",
      "5\n"
     ]
    }
   ],
   "source": [
    "my_first_list.append(\"last\")\n",
    "print(my_first_list)\n",
    "print(len(my_first_list))"
   ]
  },
  {
   "cell_type": "code",
   "execution_count": 23,
   "metadata": {},
   "outputs": [
    {
     "name": "stdout",
     "output_type": "stream",
     "text": [
      "['horse', 3.14, 'free', 'will', 'last']\n"
     ]
    }
   ],
   "source": [
    "#print(my_first_list)\n",
    "#del my_first_list[0] \n",
    "#print(my_first_list)\n",
    "print(my_first_list[:])\n",
    "#my_first_list.insert(2, \"good question\")\n",
    "#print(my_first_list)"
   ]
  },
  {
   "cell_type": "code",
   "execution_count": 24,
   "metadata": {},
   "outputs": [
    {
     "ename": "ValueError",
     "evalue": "'cat' is not in list",
     "output_type": "error",
     "traceback": [
      "\u001b[0;31m---------------------------------------------------------------------------\u001b[0m",
      "\u001b[0;31mValueError\u001b[0m                                Traceback (most recent call last)",
      "\u001b[0;32m<ipython-input-24-088a79d7a01a>\u001b[0m in \u001b[0;36m<module>\u001b[0;34m\u001b[0m\n\u001b[0;32m----> 1\u001b[0;31m \u001b[0mind\u001b[0m \u001b[0;34m=\u001b[0m \u001b[0mmy_first_list\u001b[0m\u001b[0;34m.\u001b[0m\u001b[0mindex\u001b[0m\u001b[0;34m(\u001b[0m\u001b[0;34m\"cat\"\u001b[0m\u001b[0;34m)\u001b[0m\u001b[0;34m\u001b[0m\u001b[0;34m\u001b[0m\u001b[0m\n\u001b[0m\u001b[1;32m      2\u001b[0m \u001b[0;32mdel\u001b[0m \u001b[0mmy_first_list\u001b[0m\u001b[0;34m[\u001b[0m\u001b[0mind\u001b[0m\u001b[0;34m]\u001b[0m\u001b[0;34m\u001b[0m\u001b[0;34m\u001b[0m\u001b[0m\n",
      "\u001b[0;31mValueError\u001b[0m: 'cat' is not in list"
     ]
    }
   ],
   "source": [
    "ind = my_first_list.index(\"cat\")\n",
    "del my_first_list[ind]\n"
   ]
  },
  {
   "cell_type": "markdown",
   "metadata": {},
   "source": [
    "### Tuple\n",
    "\n",
    "Le tuple sono simili alle liste, ma immutabili"
   ]
  },
  {
   "cell_type": "code",
   "execution_count": 25,
   "metadata": {},
   "outputs": [
    {
     "name": "stdout",
     "output_type": "stream",
     "text": [
      "dog\n"
     ]
    }
   ],
   "source": [
    "a = 8\n",
    "my_first_tuple = (\"dog\", a, \"cat\", \"2 + 3j\")\n",
    "a = 10\n",
    "print(my_first_tuple[0])\n",
    "#print(my_first_tuple[2:3]) "
   ]
  },
  {
   "cell_type": "code",
   "execution_count": 26,
   "metadata": {},
   "outputs": [
    {
     "ename": "TypeError",
     "evalue": "'tuple' object does not support item assignment",
     "output_type": "error",
     "traceback": [
      "\u001b[0;31m---------------------------------------------------------------------------\u001b[0m",
      "\u001b[0;31mTypeError\u001b[0m                                 Traceback (most recent call last)",
      "\u001b[0;32m<ipython-input-26-86b3d7aa7014>\u001b[0m in \u001b[0;36m<module>\u001b[0;34m\u001b[0m\n\u001b[0;32m----> 1\u001b[0;31m \u001b[0mmy_first_tuple\u001b[0m\u001b[0;34m[\u001b[0m\u001b[0;36m0\u001b[0m\u001b[0;34m]\u001b[0m \u001b[0;34m=\u001b[0m \u001b[0;36m2\u001b[0m \u001b[0;31m#tuples are immutable\u001b[0m\u001b[0;34m\u001b[0m\u001b[0;34m\u001b[0m\u001b[0m\n\u001b[0m",
      "\u001b[0;31mTypeError\u001b[0m: 'tuple' object does not support item assignment"
     ]
    }
   ],
   "source": [
    "my_first_tuple[0] = 2 #tuples are immutable"
   ]
  },
  {
   "cell_type": "code",
   "execution_count": 27,
   "metadata": {},
   "outputs": [
    {
     "name": "stdout",
     "output_type": "stream",
     "text": [
      "('dog', 8, 'cat', '2 + 3j', 'dog', 8, 'cat', '2 + 3j', 'dog', 8, 'cat', '2 + 3j')\n"
     ]
    }
   ],
   "source": [
    "print(my_first_tuple * 3)"
   ]
  },
  {
   "cell_type": "code",
   "execution_count": 28,
   "metadata": {},
   "outputs": [
    {
     "name": "stdout",
     "output_type": "stream",
     "text": [
      "('dog', 8, 'cat', '2 + 3j', 'Vero', 'Laura')\n"
     ]
    }
   ],
   "source": [
    "other_tuple = (\"Vero\", \"Laura\")\n",
    "print(my_first_tuple + other_tuple) #concatenate two tuples"
   ]
  },
  {
   "cell_type": "markdown",
   "metadata": {},
   "source": [
    "### Dizionari"
   ]
  },
  {
   "cell_type": "code",
   "execution_count": 29,
   "metadata": {},
   "outputs": [],
   "source": [
    "my_first_dict = {\"Anna\":1986, \"Giorgia\": 1993, \"Aldo\": 1991, \"Luca\": 1980}"
   ]
  },
  {
   "cell_type": "code",
   "execution_count": 30,
   "metadata": {},
   "outputs": [
    {
     "name": "stdout",
     "output_type": "stream",
     "text": [
      "1986\n"
     ]
    }
   ],
   "source": [
    "print(my_first_dict[\"Anna\"])"
   ]
  },
  {
   "cell_type": "code",
   "execution_count": 31,
   "metadata": {},
   "outputs": [
    {
     "name": "stdout",
     "output_type": "stream",
     "text": [
      "dict_keys(['Anna', 'Giorgia', 'Aldo', 'Luca'])\n",
      "dict_values([1986, 1993, 1991, 1980])\n",
      "dict_items([('Anna', 1986), ('Giorgia', 1993), ('Aldo', 1991), ('Luca', 1980)])\n",
      "[('Anna', 1986), ('Giorgia', 1993), ('Aldo', 1991), ('Luca', 1980)]\n"
     ]
    }
   ],
   "source": [
    "#views on keys, values, items\n",
    "print(my_first_dict.keys())\n",
    "print(my_first_dict.values())\n",
    "print(my_first_dict.items())\n",
    "#if you want a list...you have to use function 'list'\n",
    "print(list(my_first_dict.items()))"
   ]
  },
  {
   "cell_type": "code",
   "execution_count": 32,
   "metadata": {},
   "outputs": [
    {
     "name": "stdout",
     "output_type": "stream",
     "text": [
      "{'Anna': 1986, 'Giorgia': 1993, 'Aldo': 1991, 'Luca': 1980, 'Roberta': 1991}\n"
     ]
    }
   ],
   "source": [
    "my_first_dict[\"Roberta\"] = 1991 #adding a new item\n",
    "print(my_first_dict)"
   ]
  },
  {
   "cell_type": "code",
   "execution_count": 33,
   "metadata": {},
   "outputs": [
    {
     "name": "stdout",
     "output_type": "stream",
     "text": [
      "{'Giorgia': 1993, 'Aldo': 1991, 'Luca': 1980, 'Roberta': 1991}\n"
     ]
    }
   ],
   "source": [
    "del my_first_dict[\"Anna\"] #deleting an item from the dictionary\n",
    "print(my_first_dict)"
   ]
  },
  {
   "cell_type": "markdown",
   "metadata": {},
   "source": [
    "### Insiemi"
   ]
  },
  {
   "cell_type": "code",
   "execution_count": 2,
   "metadata": {},
   "outputs": [],
   "source": [
    "my_first_set = {\"John\", \"Sandro\", \"Luca\", \"Michele\"}\n",
    "my_second_set = {\"Sandro\", \"Marcello\", \"Giovanni\", \"Michele\", \"Jacopo\"}"
   ]
  },
  {
   "cell_type": "code",
   "execution_count": 35,
   "metadata": {},
   "outputs": [
    {
     "name": "stdout",
     "output_type": "stream",
     "text": [
      "{'Sandro', 'Luca', 'John', 'Michele', 'Aldo'}\n",
      "{'Sandro', 'Giorgia', 'Luca', 'John', 'Lara', 'Michele', 'Aldo'}\n",
      "{'Sandro', 'Luca', 'John', 'Lara', 'Michele', 'Aldo'}\n"
     ]
    }
   ],
   "source": [
    "my_first_set.add(\"Aldo\")\n",
    "print(my_first_set)\n",
    "my_first_set.update([\"Giorgia\", \"Lara\"])\n",
    "print(my_first_set)\n",
    "my_first_set.remove(\"Giorgia\")\n",
    "print(my_first_set)"
   ]
  },
  {
   "cell_type": "markdown",
   "metadata": {},
   "source": [
    "Intersezione"
   ]
  },
  {
   "cell_type": "code",
   "execution_count": 36,
   "metadata": {},
   "outputs": [
    {
     "name": "stdout",
     "output_type": "stream",
     "text": [
      "{'Michele', 'Sandro'}\n"
     ]
    }
   ],
   "source": [
    "print(my_first_set & my_second_set)"
   ]
  },
  {
   "cell_type": "markdown",
   "metadata": {},
   "source": [
    "Unione"
   ]
  },
  {
   "cell_type": "code",
   "execution_count": 37,
   "metadata": {},
   "outputs": [
    {
     "name": "stdout",
     "output_type": "stream",
     "text": [
      "{'Sandro', 'Giovanni', 'Jacopo', 'Marcello', 'Luca', 'John', 'Lara', 'Michele', 'Aldo'}\n"
     ]
    }
   ],
   "source": [
    "print(my_first_set | my_second_set)"
   ]
  },
  {
   "cell_type": "markdown",
   "metadata": {},
   "source": [
    "Differenza"
   ]
  },
  {
   "cell_type": "code",
   "execution_count": 38,
   "metadata": {},
   "outputs": [
    {
     "name": "stdout",
     "output_type": "stream",
     "text": [
      "{'Luca', 'John', 'Aldo', 'Lara'}\n"
     ]
    }
   ],
   "source": [
    "print(my_first_set - my_second_set)"
   ]
  },
  {
   "cell_type": "markdown",
   "metadata": {},
   "source": [
    "Cardinalità (numero di elementi)"
   ]
  },
  {
   "cell_type": "code",
   "execution_count": 39,
   "metadata": {},
   "outputs": [
    {
     "name": "stdout",
     "output_type": "stream",
     "text": [
      "6\n"
     ]
    }
   ],
   "source": [
    "print(len(my_first_set))"
   ]
  },
  {
   "cell_type": "markdown",
   "metadata": {},
   "source": [
    "### Copia di strutture dati"
   ]
  },
  {
   "cell_type": "markdown",
   "metadata": {},
   "source": [
    "Esempio con liste"
   ]
  },
  {
   "cell_type": "code",
   "execution_count": 40,
   "metadata": {},
   "outputs": [
    {
     "name": "stdout",
     "output_type": "stream",
     "text": [
      "['a', 'b', 'c', 'd', 'e']\n",
      "['a', 'b', 'k', 'd', 'e']\n"
     ]
    }
   ],
   "source": [
    "a = [\"a\", \"b\", \"c\", \"d\", \"e\"]\n",
    "print(a)\n",
    "b = a\n",
    "b[2] = \"k\"\n",
    "print(a)"
   ]
  },
  {
   "cell_type": "markdown",
   "metadata": {},
   "source": [
    "Esempio con dizionari"
   ]
  },
  {
   "cell_type": "code",
   "execution_count": 41,
   "metadata": {},
   "outputs": [
    {
     "name": "stdout",
     "output_type": "stream",
     "text": [
      "{'a': 1, 'b': 2, 'c': 3}\n",
      "{'a': 1, 'b': 2, 'c': 3, 'd': 4}\n"
     ]
    }
   ],
   "source": [
    "d = {\"a\":1, \"b\": 2, \"c\":3}\n",
    "print(d)\n",
    "d2 = d\n",
    "d2[\"d\"]= 4\n",
    "print(d)"
   ]
  },
  {
   "cell_type": "markdown",
   "metadata": {},
   "source": [
    "Usando l'operatore \"=\" la nuova vaiabile fa riferimento allo stesso oggetto dell'altra variabile: pertanto, apportare delle modifiche alla seconda variabile cambierà anche il contenuto della prima varabile, perché sono lo stesso contenuto con due nomi differenti!\n",
    "\n",
    "Come evitare il problema - liste"
   ]
  },
  {
   "cell_type": "code",
   "execution_count": 42,
   "metadata": {},
   "outputs": [
    {
     "name": "stdout",
     "output_type": "stream",
     "text": [
      "['a', 'b', 'c', 'd', 'e']\n",
      "----------------\n",
      "['a', 'b', 'c', 'd', 'e']\n",
      "['a', 'b', 'k', 'd', 'e']\n",
      "----------------\n",
      "['a', 'b', 'c', 'd', 'e']\n",
      "['a', 'b', 'k', 'd', 'e']\n"
     ]
    }
   ],
   "source": [
    "a = [\"a\", \"b\", \"c\", \"d\", \"e\"]\n",
    "print(a)\n",
    "print('----------------')\n",
    "\n",
    "b = a[:] # <-- HERE!\n",
    "b[2] = \"k\"\n",
    "print(a)\n",
    "print(b)\n",
    "\n",
    "print('----------------')\n",
    "\n",
    "c = list(a) # <-- HERE!\n",
    "c[2] = \"k\"\n",
    "print(a)\n",
    "print(c)"
   ]
  },
  {
   "cell_type": "markdown",
   "metadata": {},
   "source": [
    "Come evitare il problema - dizionari"
   ]
  },
  {
   "cell_type": "code",
   "execution_count": 43,
   "metadata": {},
   "outputs": [
    {
     "name": "stdout",
     "output_type": "stream",
     "text": [
      "{'a': 1, 'b': 2, 'c': 3}\n",
      "----------------\n",
      "{'a': 1, 'b': 2, 'c': 3}\n",
      "{'a': 1, 'b': 2, 'c': 3, 'd': 4}\n"
     ]
    }
   ],
   "source": [
    "d = {\"a\":1, \"b\": 2, \"c\":3}\n",
    "print(d)\n",
    "print('----------------')\n",
    "\n",
    "\n",
    "d2 = dict(d) # <-- HERE!\n",
    "d2[\"d\"]= 4\n",
    "print(d)\n",
    "print(d2)"
   ]
  },
  {
   "cell_type": "markdown",
   "metadata": {},
   "source": [
    "## Esercizi\n",
    "\n",
    "### Esercizio 1\n",
    "salva nome, cognome ed età in 3 vaiabili, ed usale per comporre una stringa di testo"
   ]
  },
  {
   "cell_type": "code",
   "execution_count": 9,
   "metadata": {},
   "outputs": [
    {
     "name": "stdout",
     "output_type": "stream",
     "text": [
      "ciao mi chiamo pietro delfinoed ho 20 anni\n",
      "mi chiamo pietro delfino ed ho 20 anni\n"
     ]
    }
   ],
   "source": [
    "nome = 'pietro'\n",
    "cognome = 'delfino'\n",
    "eta = 20\n",
    "print('ciao mi chiamo ' + nome + ' ' + cognome + 'ed ho ' + str(eta) + ' anni') \n",
    "print(\"mi chiamo %s %s ed ho %d anni\" %(nome,cognome,eta))"
   ]
  },
  {
   "cell_type": "markdown",
   "metadata": {},
   "source": [
    "### Esercizio 2"
   ]
  },
  {
   "cell_type": "code",
   "execution_count": 44,
   "metadata": {},
   "outputs": [],
   "source": [
    "#Utilizziamo le seguenti liste\n",
    "l1 = [1.2, 2.3, 3.4, 4.5]\n",
    "l2 = [\"a\", \"b\", \"c\", \"d\"]\n",
    "l3 = [3, 6, 2, 9, 8]"
   ]
  },
  {
   "cell_type": "code",
   "execution_count": 12,
   "metadata": {},
   "outputs": [
    {
     "name": "stdout",
     "output_type": "stream",
     "text": [
      "[1.2, 2.3, 3.4, 4.5, 'a', 'b', 'c', 'd']\n"
     ]
    }
   ],
   "source": [
    "#stampa la concatenazione tra l1 e l2, e poi la concatenazione tra l1 e l3\n",
    "l1 = [1.2, 2.3, 3.4, 4.5]\n",
    "l2 = [\"a\", \"b\", \"c\", \"d\"]\n",
    "l3 = [3, 6, 2, 9, 8]\n",
    "print(l1 + l2)"
   ]
  },
  {
   "cell_type": "code",
   "execution_count": 13,
   "metadata": {},
   "outputs": [
    {
     "name": "stdout",
     "output_type": "stream",
     "text": [
      "12\n"
     ]
    }
   ],
   "source": [
    "#stampa il prodotto degli elementi 0 e 3 di l3\n",
    "print(l3[0]+l3[3])\n"
   ]
  },
  {
   "cell_type": "code",
   "execution_count": 47,
   "metadata": {},
   "outputs": [],
   "source": [
    "#stampa il risultato delle operazioni: l1*3, l2*3 e l3*3\n",
    "\n",
    "print(l1*3)\n"
   ]
  },
  {
   "cell_type": "code",
   "execution_count": 14,
   "metadata": {},
   "outputs": [
    {
     "name": "stdout",
     "output_type": "stream",
     "text": [
      "2\n"
     ]
    }
   ],
   "source": [
    "#stampa la lista degli ultimi 3 elementi di l3\n",
    "print (l3[-3])\n"
   ]
  },
  {
   "cell_type": "markdown",
   "metadata": {},
   "source": [
    "### Esercizio 3"
   ]
  },
  {
   "cell_type": "code",
   "execution_count": 16,
   "metadata": {},
   "outputs": [
    {
     "name": "stdout",
     "output_type": "stream",
     "text": [
      "{'Paolo': 1986, 'Lucetta': 1995, 'Robi': 2001, 'Tonio': 1975}\n"
     ]
    }
   ],
   "source": [
    "#Crea un dizionario \"birth\" con i seguenti dati:\n",
    "#\"Paolo\" -> 1986\n",
    "#\"Lucetta\" -> 1995\n",
    "#\"Robi\" -> 2001\n",
    "#\"Tonio\" -> 1975\n",
    "\n",
    "miodizionario= {\"Paolo\":1986,\n",
    "\"Lucetta\":1995,\n",
    "\"Robi\":2001,\n",
    "\"Tonio\":1975}\n",
    "print(miodizionario)\n",
    "\n",
    "\n",
    "\n"
   ]
  },
  {
   "cell_type": "code",
   "execution_count": 53,
   "metadata": {},
   "outputs": [],
   "source": [
    "#Inserisci un nuovo valore: \"Serena\": 2001\n",
    "miodizionario[\"serena\"] = 2001\n"
   ]
  },
  {
   "cell_type": "code",
   "execution_count": 54,
   "metadata": {},
   "outputs": [],
   "source": [
    "#Rimuovi \"Lucetta\"\n",
    "del miodizionario[\"serena\"]\n"
   ]
  },
  {
   "cell_type": "code",
   "execution_count": 55,
   "metadata": {},
   "outputs": [],
   "source": [
    "#Modifica il valore di Tonio in 1965\n",
    "miodizionario[\"tonio\"] = 1965\n",
    "\n"
   ]
  },
  {
   "cell_type": "code",
   "execution_count": 18,
   "metadata": {},
   "outputs": [
    {
     "name": "stdout",
     "output_type": "stream",
     "text": [
      "[('Paolo', 1986), ('Lucetta', 1995), ('Robi', 2001), ('Tonio', 1975)]\n"
     ]
    }
   ],
   "source": [
    "#Stampa tutti gli elementi del dzionario\n",
    "print(list(miodizionario.items()))\n",
    "\n"
   ]
  },
  {
   "cell_type": "markdown",
   "metadata": {},
   "source": [
    "### Esercizio 4"
   ]
  },
  {
   "cell_type": "code",
   "execution_count": 57,
   "metadata": {},
   "outputs": [],
   "source": [
    "#Crea un dizionario che mappa 2 valori (anno di nascita e mese) ad una lista di persone\n",
    "\n",
    "#y        m       ->  people\n",
    "#1986     12      ->  [\"Tommy\", \"Luca\", \"Sveva\"]\n",
    "#1999     5       ->  [\"Jessica\"]\n",
    "#1970     1       ->  [\"Alessia\"]\n",
    "#2005     11      ->  []\n"
   ]
  },
  {
   "cell_type": "code",
   "execution_count": 58,
   "metadata": {},
   "outputs": [],
   "source": [
    "#Aggiungi questi dati al dizionario\n",
    "#Marina was born in May 1999\n",
    "#Giulia in September 2004\n",
    "#Marco in November 2005\n",
    "\n"
   ]
  },
  {
   "cell_type": "code",
   "execution_count": null,
   "metadata": {},
   "outputs": [],
   "source": []
  },
  {
   "cell_type": "code",
   "execution_count": null,
   "metadata": {},
   "outputs": [],
   "source": []
  },
  {
   "cell_type": "code",
   "execution_count": null,
   "metadata": {},
   "outputs": [],
   "source": []
  }
 ],
 "metadata": {
  "kernelspec": {
   "display_name": "Python 3",
   "language": "python",
   "name": "python3"
  },
  "language_info": {
   "codemirror_mode": {
    "name": "ipython",
    "version": 3
   },
   "file_extension": ".py",
   "mimetype": "text/x-python",
   "name": "python",
   "nbconvert_exporter": "python",
   "pygments_lexer": "ipython3",
   "version": "3.9.10"
  }
 },
 "nbformat": 4,
 "nbformat_minor": 4
}
