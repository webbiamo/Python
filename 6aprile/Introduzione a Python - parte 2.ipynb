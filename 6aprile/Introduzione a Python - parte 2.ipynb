{
 "cells": [
  {
   "cell_type": "markdown",
   "metadata": {},
   "source": [
    "<center>\n",
    "<hr>\n",
    "<h1>Introduzione a Python</h1>\n",
    "<h2>Engim - Tecnico - anno 2021/22</h2>\n",
    "<h4>Livio Bioglio livio.bioglio@unito.it </h4>\n",
    "<h3>Parte 2</h3>\n",
    "<hr>\n",
    "</center>"
   ]
  },
  {
   "cell_type": "markdown",
   "metadata": {},
   "source": [
    "## Operatori\n",
    "\n",
    "### Operatori logici"
   ]
  },
  {
   "cell_type": "code",
   "execution_count": 1,
   "metadata": {},
   "outputs": [
    {
     "name": "stdout",
     "output_type": "stream",
     "text": [
      "True\n",
      "False\n",
      "False\n"
     ]
    }
   ],
   "source": [
    "print(True and True)\n",
    "print(True and False)\n",
    "print(False and False)"
   ]
  },
  {
   "cell_type": "code",
   "execution_count": 2,
   "metadata": {},
   "outputs": [
    {
     "name": "stdout",
     "output_type": "stream",
     "text": [
      "True\n",
      "True\n",
      "False\n"
     ]
    }
   ],
   "source": [
    "print(True or True)\n",
    "print(True or False)\n",
    "print(False or False)"
   ]
  },
  {
   "cell_type": "code",
   "execution_count": 3,
   "metadata": {},
   "outputs": [
    {
     "name": "stdout",
     "output_type": "stream",
     "text": [
      "False\n",
      "True\n"
     ]
    }
   ],
   "source": [
    "print(not True)\n",
    "print(not False)"
   ]
  },
  {
   "cell_type": "markdown",
   "metadata": {},
   "source": [
    "### Operatori di uguaglianza"
   ]
  },
  {
   "cell_type": "code",
   "execution_count": 4,
   "metadata": {},
   "outputs": [
    {
     "name": "stdout",
     "output_type": "stream",
     "text": [
      "True\n",
      "True\n"
     ]
    }
   ],
   "source": [
    "print(1 == 1)\n",
    "print(1 != 2)"
   ]
  },
  {
   "cell_type": "markdown",
   "metadata": {},
   "source": [
    "### Operatore di identità `is`"
   ]
  },
  {
   "cell_type": "code",
   "execution_count": 5,
   "metadata": {},
   "outputs": [
    {
     "name": "stdout",
     "output_type": "stream",
     "text": [
      "True\n",
      "False\n",
      "The id of variable a is 140306051602224\n",
      "The id of variable b is 140306051602224\n",
      "The id of variable c is 140306051590496\n"
     ]
    }
   ],
   "source": [
    "a = [1,2,3,4,5]\n",
    "b = a\n",
    "c = a[:]\n",
    "\n",
    "print(a is b)\n",
    "print(a is c)\n",
    "\n",
    "#id returns a unique integer associated to an object, which remains constant for its lifetime\n",
    "print(f\"The id of variable a is {id(a)}\")\n",
    "print(f\"The id of variable b is {id(b)}\")\n",
    "print(f\"The id of variable c is {id(c)}\")"
   ]
  },
  {
   "cell_type": "markdown",
   "metadata": {},
   "source": [
    "### Operatore di appartenenza `in`\n",
    "\n",
    "Controlla l'appartenenza di un elemento ad una lsta o ad una tupla"
   ]
  },
  {
   "cell_type": "code",
   "execution_count": 2,
   "metadata": {},
   "outputs": [
    {
     "name": "stdout",
     "output_type": "stream",
     "text": [
      "True\n",
      "True\n",
      "True\n",
      "False\n",
      "True\n"
     ]
    }
   ],
   "source": [
    "a_list = [1,2,3,4,5]; a_set = {\"a\", \"b\", \"c\", \"d\"}; a_tuple = (10., 11.0, 12.2)\n",
    "\n",
    "print(3 in a_list) \n",
    "print(\"b\" in a_set)\n",
    "print(2 not in a_set)\n",
    "print(not(2 not in a_set))\n",
    "print(10.00 in a_tuple)"
   ]
  },
  {
   "cell_type": "markdown",
   "metadata": {},
   "source": [
    "## Statemens\n",
    "\n",
    "### Condizionale: `if`"
   ]
  },
  {
   "cell_type": "code",
   "execution_count": 3,
   "metadata": {},
   "outputs": [
    {
     "name": "stdout",
     "output_type": "stream",
     "text": [
      "10 is a small number.\n"
     ]
    }
   ],
   "source": [
    "a = int(input(\"Give me a number between 0 and 100: \"))\n",
    "\n",
    "if (a < 0) or (a > 100):\n",
    "    print(f\"Error: {a} is not a number between 0 and 100!\") #in questo caso è l'identazione che fa riconoscere il codice\n",
    "elif (a >= 0) and (a <= 40):\n",
    "    print(f\"{a} is a small number.\")#attenzione perchè gli spazi nell'identazione di python non sono uguali ai tab\n",
    "elif (a > 40) and (a <= 60):\n",
    "    print(f\"{a} is neither small, nor big.\")\n",
    "else:\n",
    "    print(f\"{a} is a big number.\")"
   ]
  },
  {
   "cell_type": "markdown",
   "metadata": {},
   "source": [
    "È possibile fare un condizionale in una sola riga di codice, se necessario"
   ]
  },
  {
   "cell_type": "code",
   "execution_count": 4,
   "metadata": {},
   "outputs": [
    {
     "name": "stdout",
     "output_type": "stream",
     "text": [
      "I'm sad!\n"
     ]
    }
   ],
   "source": [
    "a = input(\"Please type Y: \")\n",
    "mood = \"happy\" if a ==\"Y\" else \"sad\"\n",
    "\n",
    "print(f\"I'm {mood}!\")"
   ]
  },
  {
   "cell_type": "markdown",
   "metadata": {},
   "source": [
    "### Cicli: `for` e `while`"
   ]
  },
  {
   "cell_type": "markdown",
   "metadata": {},
   "source": [
    "#### Ciclo For\n",
    "Esempio di ciclo for con lista"
   ]
  },
  {
   "cell_type": "code",
   "execution_count": 9,
   "metadata": {},
   "outputs": [
    {
     "name": "stdout",
     "output_type": "stream",
     "text": [
      "I like oranges!\n",
      "I like strawberries!\n",
      "I like apples!\n",
      "I like pears!\n",
      "I like plums!\n"
     ]
    }
   ],
   "source": [
    "fruit_list = [\"oranges\", \"strawberries\", \"apples\", \"pears\", \"plums\"]\n",
    "\n",
    "for fruit in fruit_list:\n",
    "    print(f\"I like {fruit}!\")"
   ]
  },
  {
   "cell_type": "markdown",
   "metadata": {},
   "source": [
    "Esempio di ciclo for con lista con funzione `range`\n"
   ]
  },
  {
   "cell_type": "code",
   "execution_count": 14,
   "metadata": {},
   "outputs": [
    {
     "name": "stdout",
     "output_type": "stream",
     "text": [
      "0\n",
      "1\n",
      "2\n",
      "3\n",
      "4\n"
     ]
    }
   ],
   "source": [
    "for i in range(5):\n",
    "    print(i)\n",
    "\n",
    "# for i in range(10,3,2):\n",
    "#     print(i)    "
   ]
  },
  {
   "cell_type": "markdown",
   "metadata": {},
   "source": [
    "Ciclo con due liste tramite la funzione `enumerate`"
   ]
  },
  {
   "cell_type": "code",
   "execution_count": 11,
   "metadata": {},
   "outputs": [
    {
     "name": "stdout",
     "output_type": "stream",
     "text": [
      "On Monday I eat oranges.\n",
      "On Tuesday I eat strawberries.\n",
      "On Wednesday I eat apples.\n",
      "On Thursday I eat pears.\n",
      "On Friday I eat plums.\n"
     ]
    }
   ],
   "source": [
    "days = [\"Monday\", \"Tuesday\", \"Wednesday\", \"Thursday\", \"Friday\"]\n",
    "\n",
    "for i, fruit in enumerate(fruit_list):\n",
    "    print(f\"On {days[i]} I eat {fruit}.\")# verifica che cosa fa questo \n",
    "\n",
    "\n",
    "for day, fruit in zip(days, fruit_list):# zip cicla più liste contemporaneamente \n",
    "    print(f\"on {day} i eat {fruit}.\")    "
   ]
  },
  {
   "cell_type": "markdown",
   "metadata": {},
   "source": [
    "#### Cicli While"
   ]
  },
  {
   "cell_type": "code",
   "execution_count": 12,
   "metadata": {},
   "outputs": [
    {
     "name": "stdout",
     "output_type": "stream",
     "text": [
      "You lost!\n",
      "Finally, you won!\n"
     ]
    }
   ],
   "source": [
    "from random import choices\n",
    "\n",
    "#print(choices([\"won\", \"lost\"], weights = [.1, .9], k = 1)[0])\n",
    "\n",
    "while choices([\"won\", \"lost\"], weights = [.1, .9], k = 1)[0] == 'lost':#k genera un numero lista che viene recuperato allo 0 e assegnato a lost\n",
    "    print(\"You lost!\")\n",
    "\n",
    "print(\"Finally, you won!\")\n"
   ]
  },
  {
   "cell_type": "markdown",
   "metadata": {},
   "source": [
    "#### Cicli con `break` e `continue` \n",
    "\n",
    "`break` indica che bisogna uscire dal ciclo"
   ]
  },
  {
   "cell_type": "code",
   "execution_count": 13,
   "metadata": {},
   "outputs": [
    {
     "name": "stdout",
     "output_type": "stream",
     "text": [
      "Code 0: a\n",
      "Code 1: b\n",
      "Code 2: c\n",
      "Code 3: d\n",
      "Code 'e' found! \n",
      "I'm out of the for loop\n"
     ]
    }
   ],
   "source": [
    "codes = [\"a\", \"b\", \"c\", \"d\", \"e\", \"f\", \"g\"]\n",
    "\n",
    "count = 0\n",
    "for code in codes:\n",
    "    if code != \"e\":\n",
    "        print(f\"Code {count}: {code}\")\n",
    "    else:\n",
    "        print(\"Code 'e' found! \")\n",
    "        break\n",
    "    count = count + 1\n",
    "print(\"I'm out of the for loop\")"
   ]
  },
  {
   "cell_type": "markdown",
   "metadata": {},
   "source": [
    "`continue` indica che bisogna ripendere il ciclo dalla sua prima istruzione"
   ]
  },
  {
   "cell_type": "code",
   "execution_count": 14,
   "metadata": {},
   "outputs": [
    {
     "name": "stdout",
     "output_type": "stream",
     "text": [
      "\n",
      "Random number 0: 0\n",
      "\n",
      "Random number 1: 0\n",
      "\n",
      "Random number 2: 1\n",
      "1's inverse is 1.0\n",
      "\n",
      "Random number 3: 1\n",
      "1's inverse is 1.0\n",
      "\n",
      "Random number 4: 2\n",
      "2's inverse is 0.5\n",
      "\n",
      "Random number 5: 2\n",
      "2's inverse is 0.5\n",
      "\n",
      "Random number 6: 1\n",
      "1's inverse is 1.0\n",
      "\n",
      "Random number 7: 2\n",
      "2's inverse is 0.5\n",
      "\n",
      "Random number 8: 0\n",
      "\n",
      "Random number 9: 1\n",
      "1's inverse is 1.0\n",
      "\n",
      "Random number 10: 2\n",
      "2's inverse is 0.5\n",
      "\n",
      "Random number 11: 1\n",
      "1's inverse is 1.0\n",
      "\n",
      "Random number 12: 0\n",
      "\n",
      "Random number 13: 0\n",
      "\n",
      "Random number 14: 0\n",
      "\n",
      "Random number 15: 2\n",
      "2's inverse is 0.5\n",
      "\n",
      "Random number 16: 0\n",
      "\n",
      "Random number 17: 0\n",
      "\n",
      "Random number 18: 0\n",
      "\n",
      "Random number 19: 0\n"
     ]
    }
   ],
   "source": [
    "from random import randint\n",
    "\n",
    "for i in range(20):\n",
    "    num = randint(0,2)\n",
    "    print(f\"\\nRandom number {i}: {num}\")\n",
    "    if num == 0:\n",
    "        continue\n",
    "    print(f\"{num}'s inverse is {1/num}\")\n",
    "    "
   ]
  },
  {
   "cell_type": "markdown",
   "metadata": {},
   "source": [
    "#### Creazione di liste\n",
    "\n",
    "Python offre alcuni metodi molto compatti per creare una lista"
   ]
  },
  {
   "cell_type": "code",
   "execution_count": 15,
   "metadata": {},
   "outputs": [
    {
     "name": "stdout",
     "output_type": "stream",
     "text": [
      "[1, 3, 5, 7, 9, 11, 13, 15, 17, 19]\n"
     ]
    }
   ],
   "source": [
    "lista1 = [m*2+1 for m in range(10)]\n",
    "print(lista1)\n",
    "\n",
    "#instead of\n",
    "#lista1 = []\n",
    "#for m in range(10):\n",
    "#    lista1.append(m*2+1)"
   ]
  },
  {
   "cell_type": "markdown",
   "metadata": {},
   "source": [
    "Nella creazione di una lista è possibile anche usare l'struzione `if`"
   ]
  },
  {
   "cell_type": "code",
   "execution_count": 16,
   "metadata": {},
   "outputs": [
    {
     "name": "stdout",
     "output_type": "stream",
     "text": [
      "[3, 9, 15]\n"
     ]
    }
   ],
   "source": [
    "lista2 = [m for m in lista1 if m%3 == 0]#per ogni m di lista verifica che sia divisibile per 3\n",
    "print(lista2)"
   ]
  },
  {
   "cell_type": "markdown",
   "metadata": {},
   "source": [
    "## Exercizi\n",
    "\n",
    "### Esercizio 1"
   ]
  },
  {
   "cell_type": "code",
   "execution_count": 17,
   "metadata": {},
   "outputs": [],
   "source": [
    "#Prendiamo le seguenti liste\n",
    "list_a = list(range(50))\n",
    "list_b = [50,62,71,66,94]\n",
    "#Creare una lista 'list_c' contenente tutti gli elementi di 'list_a' che \n",
    "#una volta moltiplicati per 2 non sono in 'list_b'\n",
    "#Per esempio, 24 è incluso, ma 25 no\n"
   ]
  },
  {
   "cell_type": "markdown",
   "metadata": {},
   "source": [
    "### Esercizio 2"
   ]
  },
  {
   "cell_type": "code",
   "execution_count": 18,
   "metadata": {},
   "outputs": [
    {
     "name": "stdout",
     "output_type": "stream",
     "text": [
      "Come mi chiamo?t\n"
     ]
    }
   ],
   "source": [
    "#Crea un ciclo che continua a chiiedee il nome all'utente finché non lo inserisce coretto\n",
    "\n",
    "my_name = \"Elena\"\n",
    "name = input(\"Come mi chiamo?\")        \n",
    "    "
   ]
  },
  {
   "cell_type": "markdown",
   "metadata": {},
   "source": [
    "### Esercizio 3"
   ]
  },
  {
   "cell_type": "code",
   "execution_count": 19,
   "metadata": {},
   "outputs": [],
   "source": [
    "#Cea la seguente lista usando i cicli\n",
    "#[(1,1), (1,2), (1,3), (2,1), (2,2), (2,3), (3,1), (3,2), (3,3)....(10,3)]\n"
   ]
  },
  {
   "cell_type": "markdown",
   "metadata": {},
   "source": [
    "### Esercizio 4"
   ]
  },
  {
   "cell_type": "code",
   "execution_count": 20,
   "metadata": {},
   "outputs": [],
   "source": [
    "#Crea la seguente lista, usando i cicli\n",
    "#[[1],[1,2],[1,2,3],[1,2,3,4],.....[1,2,3,4,5,6,7,8,9]]\n"
   ]
  },
  {
   "cell_type": "code",
   "execution_count": null,
   "metadata": {},
   "outputs": [],
   "source": []
  }
 ],
 "metadata": {
  "kernelspec": {
   "display_name": "Python 3",
   "language": "python",
   "name": "python3"
  },
  "language_info": {
   "codemirror_mode": {
    "name": "ipython",
    "version": 3
   },
   "file_extension": ".py",
   "mimetype": "text/x-python",
   "name": "python",
   "nbconvert_exporter": "python",
   "pygments_lexer": "ipython3",
   "version": "3.6.9"
  }
 },
 "nbformat": 4,
 "nbformat_minor": 2
}
