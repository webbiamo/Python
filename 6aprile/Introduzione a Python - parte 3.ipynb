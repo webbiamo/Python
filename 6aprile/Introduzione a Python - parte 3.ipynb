{
 "cells": [
  {
   "cell_type": "markdown",
   "metadata": {},
   "source": [
    "<center>\n",
    "<hr>\n",
    "<h1>Introduzione a Python</h1>\n",
    "<h2>Engim - Tecnico - anno 2021/22</h2>\n",
    "<h4>Livio Bioglio livio.bioglio@unito.it </h4>\n",
    "<h3>Parte 3</h3>\n",
    "<hr>\n",
    "</center>"
   ]
  },
  {
   "cell_type": "markdown",
   "metadata": {},
   "source": [
    "## Funzioni definite dall'utente"
   ]
  },
  {
   "cell_type": "markdown",
   "metadata": {},
   "source": [
    "La sintassi generale pe creare una funzione in Python è la seguente:\n",
    "\n",
    "`def function_name(params):\n",
    "    \"some documentation\"\n",
    "    computations..\n",
    "    return [expression]`\n",
    "    \n",
    "`return` termina l'esecuzione della funzione, e estituisce il valore che segue, o altrimenti `None` "
   ]
  },
  {
   "cell_type": "markdown",
   "metadata": {},
   "source": [
    "### Esempio 1. Funzione su lista"
   ]
  },
  {
   "cell_type": "code",
   "execution_count": 1,
   "metadata": {},
   "outputs": [],
   "source": [
    "def add_1_to_even(my_list):\n",
    "    \"creates a new list from the input list, adding 1 to elements with even index\"\n",
    "    my_new_list = []\n",
    "    for i, elem in enumerate(my_list):\n",
    "        if i%2 ==0:\n",
    "            my_new_list.append(elem+1)\n",
    "        else:\n",
    "            my_new_list.append(elem)\n",
    "    return my_new_list        "
   ]
  },
  {
   "cell_type": "code",
   "execution_count": 2,
   "metadata": {},
   "outputs": [
    {
     "name": "stdout",
     "output_type": "stream",
     "text": [
      "Help on function add_1_to_even in module __main__:\n",
      "\n",
      "add_1_to_even(my_list)\n",
      "    creates a new list from the input list, adding 1 to elements with even index\n",
      "\n"
     ]
    }
   ],
   "source": [
    "help(add_1_to_even)"
   ]
  },
  {
   "cell_type": "code",
   "execution_count": 3,
   "metadata": {},
   "outputs": [
    {
     "name": "stdout",
     "output_type": "stream",
     "text": [
      "[2, 2, 4, 4, 6]\n"
     ]
    }
   ],
   "source": [
    "a = [1,2,3,4,5]\n",
    "print(add_1_to_even(a))"
   ]
  },
  {
   "cell_type": "markdown",
   "metadata": {},
   "source": [
    "### Esempio 2. Funzione che utilizza più di un parametro"
   ]
  },
  {
   "cell_type": "code",
   "execution_count": 4,
   "metadata": {},
   "outputs": [],
   "source": [
    "def sum_2_then_multiply(a, b, c = 1): #optional parameters (like c) must come after the mandatory ones \n",
    "    \"\"\"\n",
    "    it returns the sum of the first two parameters, multiplied by\n",
    "    the third parameter, whose default value is 1.\n",
    "    Parameters must be numbers\n",
    "    \"\"\"\n",
    "    return (a+b)*c\n",
    "    "
   ]
  },
  {
   "cell_type": "code",
   "execution_count": 5,
   "metadata": {},
   "outputs": [
    {
     "name": "stdout",
     "output_type": "stream",
     "text": [
      "Help on function sum_2_then_multiply in module __main__:\n",
      "\n",
      "sum_2_then_multiply(a, b, c=1)\n",
      "    it returns the sum of the first two parameters, multiplied by\n",
      "    the third parameter, whose default value is 1.\n",
      "    Parameters must be numbers\n",
      "\n",
      "5\n",
      "10\n"
     ]
    }
   ],
   "source": [
    "help(sum_2_then_multiply)\n",
    "print(sum_2_then_multiply(1,4)) #with two parameters\n",
    "print(sum_2_then_multiply(1,4,2)) #with three parameters"
   ]
  },
  {
   "cell_type": "markdown",
   "metadata": {},
   "source": [
    "### Esempio 3. Funzione che restituisce valori multpli"
   ]
  },
  {
   "cell_type": "code",
   "execution_count": 6,
   "metadata": {},
   "outputs": [],
   "source": [
    "def power_2_and_3(a_number):\n",
    "    \"\"\"it returns the number in input raised to power 2 and 3\"\"\"\n",
    "    return a_number**2, a_number**3 "
   ]
  },
  {
   "cell_type": "code",
   "execution_count": 7,
   "metadata": {},
   "outputs": [
    {
     "name": "stdout",
     "output_type": "stream",
     "text": [
      "(25, 125)\n"
     ]
    }
   ],
   "source": [
    "print(power_2_and_3(5))"
   ]
  },
  {
   "cell_type": "code",
   "execution_count": 8,
   "metadata": {},
   "outputs": [
    {
     "name": "stdout",
     "output_type": "stream",
     "text": [
      "4\n",
      "8\n"
     ]
    }
   ],
   "source": [
    "square, cube = power_2_and_3(2)\n",
    "print(square)\n",
    "print(cube)"
   ]
  },
  {
   "cell_type": "markdown",
   "metadata": {},
   "source": [
    "### Esempio 4. Funzione con agomenti passati per rifeimento (non per valore). Molto importante!"
   ]
  },
  {
   "cell_type": "code",
   "execution_count": 9,
   "metadata": {},
   "outputs": [],
   "source": [
    "def set_elem_0_to_0(my_list):\n",
    "    \"\"\"it sets the element zero of the input list to zero\"\"\"\n",
    "    my_list[0] = 0\n",
    "    return"
   ]
  },
  {
   "cell_type": "code",
   "execution_count": 10,
   "metadata": {},
   "outputs": [
    {
     "name": "stdout",
     "output_type": "stream",
     "text": [
      "a_list before function is applied: [1, 2, 3, 4, 5]\n",
      "a_list after function is applied: [0, 2, 3, 4, 5]\n"
     ]
    }
   ],
   "source": [
    "a_list = [1,2,3,4,5]\n",
    "print(f\"a_list before function is applied: {a_list}\")\n",
    "set_elem_0_to_0(a_list)\n",
    "print(f\"a_list after function is applied: {a_list}\")"
   ]
  },
  {
   "cell_type": "markdown",
   "metadata": {},
   "source": [
    "La lista originaria viene modificata! Se non si vuole modificae la lista originaria, bisogna usarne una copia:"
   ]
  },
  {
   "cell_type": "code",
   "execution_count": 11,
   "metadata": {},
   "outputs": [],
   "source": [
    "def newlist_elem_0_to_0(my_list):\n",
    "    \"\"\"it returns a copy of the input list with element zero set to zero\"\"\"\n",
    "    my_new_list = my_list[:] \n",
    "    my_new_list[0] = 0\n",
    "    return my_new_list"
   ]
  },
  {
   "cell_type": "code",
   "execution_count": 12,
   "metadata": {},
   "outputs": [
    {
     "name": "stdout",
     "output_type": "stream",
     "text": [
      "a_list before function is applied: [1, 2, 3, 4, 5]\n",
      "a_list after function is applied: [1, 2, 3, 4, 5]\n"
     ]
    }
   ],
   "source": [
    "a_list = [1,2,3,4,5]\n",
    "print(f\"a_list before function is applied: {a_list}\")\n",
    "newlist_elem_0_to_0(a_list)\n",
    "print(f\"a_list after function is applied: {a_list}\")"
   ]
  },
  {
   "cell_type": "markdown",
   "metadata": {},
   "source": [
    "Anche questa versione è corretta: come mai?"
   ]
  },
  {
   "cell_type": "code",
   "execution_count": 13,
   "metadata": {},
   "outputs": [],
   "source": [
    "def newlist_elem_0_to_0(my_list):\n",
    "    \"\"\"it returns a copy of the input list with element zero set to zero\"\"\"\n",
    "    my_list = my_list[:] \n",
    "    my_list[0] = 0\n",
    "    return my_list"
   ]
  },
  {
   "cell_type": "code",
   "execution_count": 14,
   "metadata": {},
   "outputs": [
    {
     "name": "stdout",
     "output_type": "stream",
     "text": [
      "a_list before function is applied: [1, 2, 3, 4, 5]\n",
      "a_list after function is applied: [1, 2, 3, 4, 5]\n"
     ]
    }
   ],
   "source": [
    "a_list = [1,2,3,4,5]\n",
    "print(f\"a_list before function is applied: {a_list}\")\n",
    "newlist_elem_0_to_0(a_list)\n",
    "print(f\"a_list after function is applied: {a_list}\")"
   ]
  },
  {
   "cell_type": "markdown",
   "metadata": {},
   "source": [
    "In questo caso, la vaiabile `my_list` che viene modificata in `my_list[0] = 0` è quella locale della funzione, non quella esterna alla funzione!\n",
    "\n",
    "Se si vuole che la vaiabile di una funzione sia accessble ache all'esterno deve essere dichiarata come `global` all'inizio del corpo della funzione.\n",
    "\n",
    "### Esempio 5: variabile `global` in funzione"
   ]
  },
  {
   "cell_type": "code",
   "execution_count": 15,
   "metadata": {},
   "outputs": [
    {
     "name": "stdout",
     "output_type": "stream",
     "text": [
      "i = 0\n",
      "h = 1\n"
     ]
    }
   ],
   "source": [
    "i = 0\n",
    "h = 0\n",
    "\n",
    "def my_useless_funct():\n",
    "    i = 1\n",
    "    return\n",
    "\n",
    "def my_useless_funct_2():\n",
    "    global h\n",
    "    h = 1\n",
    "    return\n",
    "\n",
    "my_useless_funct()\n",
    "print(f\"i = {i}\")\n",
    "\n",
    "my_useless_funct_2()\n",
    "print(f\"h = {h}\")\n"
   ]
  },
  {
   "cell_type": "markdown",
   "metadata": {},
   "source": [
    "### Esempio 6. Funzione ricorsiva"
   ]
  },
  {
   "cell_type": "code",
   "execution_count": 16,
   "metadata": {},
   "outputs": [],
   "source": [
    "def my_factorial(n):\n",
    "    \"it compute the factorial of a non-negative integer\"\n",
    "\n",
    "    #check if it is an integer\n",
    "    if not(isinstance(n, int)):\n",
    "        raise ValueError(f'{n} is not an integer number!')\n",
    "    \n",
    "    #check if it is >= 0\n",
    "    if n < 0:\n",
    "        raise ValueError(f'{n} is negative!')\n",
    "    \n",
    "    #factorial redef.\n",
    "    if n == 0:\n",
    "        return 1\n",
    "    if n != 0:\n",
    "        return n * my_factorial(n-1)\n"
   ]
  },
  {
   "cell_type": "code",
   "execution_count": 17,
   "metadata": {},
   "outputs": [
    {
     "name": "stdout",
     "output_type": "stream",
     "text": [
      "24\n"
     ]
    }
   ],
   "source": [
    "print(my_factorial(4))"
   ]
  },
  {
   "cell_type": "markdown",
   "metadata": {},
   "source": [
    "## Esercizi\n",
    "\n",
    "### Esercizio 1\n",
    "Creare la funzione `compute_car_age` che restituisce l'età dell'auto dato l'anno di produzione e l'anno di riferimento: di default l'anno di riferimento è il 2022."
   ]
  },
  {
   "cell_type": "code",
   "execution_count": 18,
   "metadata": {},
   "outputs": [],
   "source": [
    "\n",
    "#print(compute_car_age(2011, 2015))\n",
    "    "
   ]
  },
  {
   "cell_type": "markdown",
   "metadata": {},
   "source": [
    "### Esercizio 2\n",
    "Creare una funzione a cui viene passata una parola e riconosce se si tratta di un palindromo (parole che si leggono uguali anche al contrario) oppure meno."
   ]
  },
  {
   "cell_type": "code",
   "execution_count": null,
   "metadata": {},
   "outputs": [],
   "source": []
  },
  {
   "cell_type": "markdown",
   "metadata": {},
   "source": [
    "### Esercizio 3\n",
    "Creare una funzione a cui passare una stringa come parametro, e che restituisca un dizionario rappresentante la \"frequenza di comparsa\" di ciscun carattere componente la stringa.\n",
    "\n",
    "Per esempio, data una stringa \"ababcc\", il risultato dovrà essere {\"a\": 2, \"b\": 2, \"c\": 2}!"
   ]
  },
  {
   "cell_type": "code",
   "execution_count": null,
   "metadata": {},
   "outputs": [],
   "source": []
  },
  {
   "cell_type": "markdown",
   "metadata": {},
   "source": [
    "### Esercizio 4\n",
    "Prendiamo la sequenza:\n",
    "$$F_0 = 0$$\n",
    "$$F_1 = 1$$\n",
    "$$F_n = F_{n-1} + F_{n-2}, \\quad n = 2,3,4,\\dots$$\n",
    "\n",
    "1. Creare la funzione `func_1` che prende in input un valore n e restituisce il valore della sequenza di indice n, in maniera non ricorsiva;\n",
    "2. Creare la funzione `func_2` che calcola la stessa cosa di `func_1` ma in maniera ricosiva.\n"
   ]
  },
  {
   "cell_type": "code",
   "execution_count": null,
   "metadata": {
    "collapsed": true
   },
   "outputs": [],
   "source": []
  }
 ],
 "metadata": {
  "kernelspec": {
   "display_name": "Python 3",
   "language": "python",
   "name": "python3"
  },
  "language_info": {
   "codemirror_mode": {
    "name": "ipython",
    "version": 3
   },
   "file_extension": ".py",
   "mimetype": "text/x-python",
   "name": "python",
   "nbconvert_exporter": "python",
   "pygments_lexer": "ipython3",
   "version": "3.7.6"
  }
 },
 "nbformat": 4,
 "nbformat_minor": 2
}
